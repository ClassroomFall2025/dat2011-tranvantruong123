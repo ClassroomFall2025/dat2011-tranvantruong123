{
 "cells": [
  {
   "cell_type": "markdown",
   "id": "fdeff819",
   "metadata": {},
   "source": [
    "# Sinh Viên thực hiện Lab 5 ở Đây"
   ]
  },
  {
   "cell_type": "markdown",
   "id": "acc5d7dc",
   "metadata": {},
   "source": [
    "## Lab 5 - Bài 1"
   ]
  },
  {
   "cell_type": "code",
   "execution_count": null,
   "id": "001e0507",
   "metadata": {},
   "outputs": [],
   "source": [
    "# Code lab 5 bài 1 ở đây"
   ]
  },
  {
   "cell_type": "markdown",
   "id": "c0835310",
   "metadata": {},
   "source": [
    "## Lab 5 - Bài 2"
   ]
  },
  {
   "cell_type": "code",
   "execution_count": null,
   "id": "fa9cb39f",
   "metadata": {},
   "outputs": [],
   "source": [
    "# Code lab 5  bài 2 ở đây\n",
    "from sanpham import *\n",
    "sp1 = SanPham (\"\", \"\", \"\")\n",
    "sp2 = SanPham (\"\", \"\", \"\")\n",
    "sp1.nhap_thong_tin()\n",
    "sp2.nhap_thong_tin()\n",
    "sp1.xuat_thong_tin()\n",
    "sp2.xuat_thong_tin()"
   ]
  },
  {
   "cell_type": "markdown",
   "id": "0f2483fe",
   "metadata": {},
   "source": [
    "## Lab 5 - Bài 3"
   ]
  },
  {
   "cell_type": "code",
   "execution_count": null,
   "id": "7034990b",
   "metadata": {},
   "outputs": [],
   "source": [
    "# Code lab 5  bài 3 ở đây"
   ]
  },
  {
   "cell_type": "markdown",
   "id": "d36ea3d3",
   "metadata": {},
   "source": [
    "## Lab 5 - Bài 4"
   ]
  },
  {
   "cell_type": "code",
   "execution_count": 1,
   "id": "4c707ec1",
   "metadata": {},
   "outputs": [
    {
     "name": "stdout",
     "output_type": "stream",
     "text": [
      "Nhập thông tin sản phẩm 1:\n",
      "\n",
      "Nhập thông tin sản phẩm 2:\n",
      "\n",
      "--- THÔNG TIN SẢN PHẨM ---\n",
      "sản phẩm cu huy chuong có giá 90000.0 được giảm giá hết 0.0 và thuế nhập khẩu 9000.0\n",
      "sản phẩm okok có giá 44.0 được giảm giá hết 5.0 và thuế nhập khẩu 4.4\n"
     ]
    }
   ],
   "source": [
    "# code lab 5 bài 4 ở đây\n",
    "from sanpham import *\n",
    "print(\"Nhập thông tin sản phẩm 1:\")\n",
    "ten1 = input(\"Tên sản phẩm: \")\n",
    "gia1 = float(input(\"Giá: \"))\n",
    "giam1 = float(input(\"Giảm giá: \"))\n",
    "\n",
    "print(\"\\nNhập thông tin sản phẩm 2:\")\n",
    "ten2 = input(\"Tên sản phẩm: \")\n",
    "gia2 = float(input(\"Giá: \"))\n",
    "giam2 = float(input(\"Giảm giá: \"))    \n",
    "sp1 = SanPham(ten1, gia1, giam1)\n",
    "sp2 = SanPham(ten2, gia2, giam2)\n",
    "\n",
    "# Xuất thông tin sản phẩm\n",
    "print(\"\\n--- THÔNG TIN SẢN PHẨM ---\")\n",
    "sp1.xuat_thong_tin()\n",
    "sp2.xuat_thong_tin()\n"
   ]
  },
  {
   "cell_type": "markdown",
   "id": "e2b41d4a",
   "metadata": {},
   "source": [
    "## Lab 5 - Bài 5: bài tập làm thêm"
   ]
  },
  {
   "cell_type": "code",
   "execution_count": null,
   "id": "0e0172f7",
   "metadata": {},
   "outputs": [],
   "source": [
    "# code lab 5  bài làm thêm ở đây "
   ]
  }
 ],
 "metadata": {
  "kernelspec": {
   "display_name": "Python 3",
   "language": "python",
   "name": "python3"
  },
  "language_info": {
   "codemirror_mode": {
    "name": "ipython",
    "version": 3
   },
   "file_extension": ".py",
   "mimetype": "text/x-python",
   "name": "python",
   "nbconvert_exporter": "python",
   "pygments_lexer": "ipython3",
   "version": "3.14.0"
  }
 },
 "nbformat": 4,
 "nbformat_minor": 5
}
