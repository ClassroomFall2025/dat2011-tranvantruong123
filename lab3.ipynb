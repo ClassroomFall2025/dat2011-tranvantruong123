{
 "cells": [
  {
   "cell_type": "markdown",
   "id": "fdeff819",
   "metadata": {},
   "source": [
    "# Sinh Viên thực hiện Lab 3 ở Đây"
   ]
  },
  {
   "cell_type": "markdown",
   "id": "acc5d7dc",
   "metadata": {},
   "source": [
    "## Lab 3 - Bài 1"
   ]
  },
  {
   "cell_type": "code",
   "execution_count": null,
   "id": "001e0507",
   "metadata": {},
   "outputs": [
    {
     "name": "stdout",
     "output_type": "stream",
     "text": [
      "Nhập vào một dãy số nguyên, kết thúc bằng ký tự 'q'\n",
      "thoát chương trình\n",
      "[7, 6, 8, 9, 6, 5, 7, 8, 6, 5, 89]\n",
      "Dãy số sau khi sắp xếp: [5, 5, 6, 6, 6, 7, 7, 8, 8, 9, 89]\n",
      "Số lớn nhất trong dãy số là: 89\n",
      "Số nhỏ nhất trong dãy số là: 5\n",
      "Dãy số sau khi sắp xếp giảm dần: [89, 9, 8, 8, 7, 7, 6, 6, 6, 5, 5]\n",
      "Số lớn nhất trong dãy số là: 89\n",
      "Số nhỏ nhất trong dãy số là: 5\n",
      "89\n",
      "9\n",
      "8\n",
      "8\n",
      "7\n",
      "7\n",
      "6\n",
      "6\n",
      "6\n",
      "5\n",
      "5\n",
      "Trung bình cộng các số chia hết cho 3 là: 27\n",
      "có 4 số chia hết cho 3\n",
      "Trung bình cộng các số chia hết cho 3 là: 6.75\n",
      "dãy số chia hết cho 3 là: [9, 6, 6, 6]\n"
     ]
    }
   ],
   "source": [
    "# Code lab 3 bài 1 ở đây\n",
    "day_so=[]\n",
    "tong=0\n",
    "dem=0\n",
    "day_so_chia3=[]\n",
    "print(\"Nhập vào một dãy số nguyên, kết thúc bằng ký tự 'q'\")\n",
    "while True:\n",
    "    so = input(\"Nhập số... \")\n",
    "    if so  == 'q':\n",
    "        print(\"thoát chương trình\")\n",
    "        break\n",
    "    else:\n",
    "        try:\n",
    "            phan_tu = int(so)\n",
    "            day_so.append(phan_tu)\n",
    "        except ValueError:\n",
    "            print(\"Giá trị không hợp lệ. Vui lòng nhập đúng số hoặc q để thoát chương trình.\")\n",
    "print(day_so)\n",
    "\n",
    "day_so.sort()\n",
    "print(\"Dãy số sau khi sắp xếp:\", day_so)\n",
    "print(\"Số lớn nhất trong dãy số là:\", day_so[-1])\n",
    "print(\"Số nhỏ nhất trong dãy số là:\", day_so[0])\n",
    "# Nhập vào một dãy số nguyên, kết thúc bằng ký tự 'q'\n",
    "day_so.sort(reverse=True)\n",
    "print(\"Dãy số sau khi sắp xếp giảm dần:\", day_so)\n",
    "print(\"Số lớn nhất trong dãy số là:\", day_so[0])\n",
    "print(\"Số nhỏ nhất trong dãy số là:\", day_so[-1])\n",
    "#DUYỆT danh sách\n",
    "for phan_tu in day_so:\n",
    "    print(phan_tu)\n",
    "#Tính tổng các số chia hết cho 3\n",
    "for phan_tu in day_so:\n",
    "    if phan_tu % 3== 0:\n",
    "        tong =tong +phan_tu\n",
    "        dem=dem +1\n",
    "        day_so_chia3.append(phan_tu)\n",
    "print(\"Trung bình cộng các số chia hết cho 3 là:\", tong)\n",
    "print(f\"có {dem} số chia hết cho 3\")\n",
    "if dem !=0:\n",
    "    print(\"Trung bình cộng các số chia hết cho 3 là:\", tong/dem)\n",
    "    print(\"dãy số chia hết cho 3 là:\", day_so_chia3)\n",
    "else:\n",
    "    print(\"không có số nào chia hết cho 3.\")\n",
    "    print(\"dãy số chia hết cho 3 là:\", day_so_chia3)\n"
   ]
  },
  {
   "cell_type": "markdown",
   "id": "c0835310",
   "metadata": {},
   "source": [
    "## Lab 3 - Bài 2"
   ]
  },
  {
   "cell_type": "code",
   "execution_count": 7,
   "id": "a4a37488",
   "metadata": {},
   "outputs": [
    {
     "name": "stdout",
     "output_type": "stream",
     "text": [
      "Thông tin sinh viên đã được lưu thành công.\n",
      "Thông tin sinh viên đã được lưu thành công.\n",
      "Thoát chương trình\n",
      "Danh sách sinh viên đã nhập:\n",
      "Họ tên: huy, Điểm: 5.0, Xếp loại: Trung bình\n",
      "Họ tên: truong, Điểm: 5.0, Xếp loại: Trung bình\n"
     ]
    }
   ],
   "source": [
    "#sinh_vien = {}\n",
    "#sinh_vien['ho_va_ten'] = input(\"Nhập họ tên sinh viên: \")\n",
    "#diem =float(input(\"Nhập điểm sinh viên: \"))\n",
    "#sinh_vien['diem'] = diem\n",
    "#print(\"Thông tin sinh viên đã được lưu thành công.\")\n",
    "\n",
    "# xếp loại sinh viên\n",
    "#if diem <5:\n",
    "    #xep_loai = 'Yếu'\n",
    "#elif 5 <= diem < 7:\n",
    "    #xep_loai = 'Trung bình'\n",
    "#elif 7 <= diem < 8:\n",
    "    #xep_loai = 'Khá'\n",
    "#elif 8 <= diem < 9:\n",
    "    #xep_loai = 'Giỏi'\n",
    "#else:\n",
    "    #xep_loai = 'Xuất sắc'\n",
    "#sinh_vien['xep_loai'] = xep_loai\n",
    "\n",
    "# in ra thông tin sinh viên\n",
    "#print(\"Thông tin sinh viên:\")\n",
    "#print(\"Họ tên:\", sinh_vien['ho_va_ten'])\n",
    "#print(\"Điểm:\", sinh_vien['diem'])\n",
    "#print(\"Xếp loại:\", sinh_vien['xep_loai'])\n",
    "\n",
    "ds_sinh_vien ={}\n",
    "sinh_vien = {}\n",
    "\n",
    "while True:\n",
    "    Ho_ten = input(\"Nhập họ tên sinh viên: \")\n",
    "    if Ho_ten == 'q':\n",
    "        print(\"Thoát chương trình\")\n",
    "        print(\"Danh sách sinh viên đã nhập:\")\n",
    "        for ten, sv in ds_sinh_vien.items():\n",
    "            print(f\"Họ tên: {sv['ho_va_ten']}, Điểm: {sv['diem']}, Xếp loại: {sv['xep_loai']}\")\n",
    "        break\n",
    "    else:\n",
    "        diem = float(input(\"Nhập điểm sinh viên: \"))\n",
    "        \n",
    "        if diem <5:\n",
    "            xep_loai = 'Yếu'\n",
    "        elif 5 <= diem < 7:\n",
    "            xep_loai = 'Trung bình'\n",
    "        elif 7 <= diem < 8:\n",
    "            xep_loai = 'Khá'\n",
    "        elif 8 <= diem < 9:\n",
    "            xep_loai = 'Giỏi'\n",
    "        else:\n",
    "            xep_loai = 'Xuất sắc'\n",
    "        sinh_vien['xep_loai'] = xep_loai\n",
    "        sinh_vien['ho_va_ten'] = Ho_ten\n",
    "        sinh_vien['diem'] = diem\n",
    "        ds_sinh_vien[Ho_ten] = sinh_vien.copy()\n",
    "        print(\"Thông tin sinh viên đã được lưu thành công.\")\n",
    "\n",
    "\n",
    "\n"
   ]
  },
  {
   "cell_type": "code",
   "execution_count": null,
   "id": "fa9cb39f",
   "metadata": {},
   "outputs": [],
   "source": []
  },
  {
   "cell_type": "markdown",
   "id": "0f2483fe",
   "metadata": {},
   "source": [
    "## Lab 3 - Bài 3"
   ]
  },
  {
   "cell_type": "code",
   "execution_count": null,
   "id": "7034990b",
   "metadata": {},
   "outputs": [
    {
     "name": "stdout",
     "output_type": "stream",
     "text": [
      "55\n"
     ]
    }
   ],
   "source": [
    "# code lab 3 bài 3 ở đây\n",
    "dãy_số = []\n",
    "while True:\n",
    "    số = input('Nhập số: ')\n",
    "    if số == 'e':\n",
    "        print('Thoát chương trình')\n",
    "        break\n",
    "    else:\n",
    "        try:\n",
    "            phần_tử = int(số)\n",
    "            dãy_số.append(phần_tử)\n",
    "        except ValueError:\n",
    "            print('Vui lòng nhập lại số hoặc e để thoát')\n",
    "            continue\n",
    "print('Dãy số hiện tại:', dãy_số)\n",
    "# Dãy số tăng dần\n",
    "dãy_số.sort()\n",
    "print('Dãy số sau khi sắp xếp:', dãy_số)\n",
    "# Dãy số giảm dần\n",
    "dãy_số.sort(reverse=True)\n",
    "print('Dãy số sau khi sắp xếp ngược:', dãy_số)\n",
    "# Tìm số lớn nhất và nhỏ nhất trong dãy số\n",
    "dãy_số_max = max(dãy_số)\n",
    "dãy_số_min = min(dãy_số)\n",
    "print('Số lớn nhất trong dãy số là:', dãy_số_max)\n",
    "print('Số nhỏ nhất trong dãy số là:', dãy_số_min)\n",
    "Tổng = 0\n",
    "dem = 0\n",
    "for phần_tử in dãy_số:\n",
    "    if phần_tử % 3 == 0:\n",
    "        Tổng += phần_tử\n",
    "        dem += 1\n",
    "print(f'Tổng các số chia hết cho 3 là: {Tổng}')\n",
    "if dem > 0:\n",
    "    kết_quả = Tổng / dem\n",
    "else:\n",
    "    kết_quả = 0\n",
    "print(f'Trung bình các số chia hết cho 3 là: {kết_quả}')\n"
   ]
  },
  {
   "cell_type": "markdown",
   "id": "d36ea3d3",
   "metadata": {},
   "source": [
    "## Lab 3 - Bài 4"
   ]
  },
  {
   "cell_type": "code",
   "execution_count": 5,
   "id": "4c707ec1",
   "metadata": {},
   "outputs": [
    {
     "name": "stdout",
     "output_type": "stream",
     "text": [
      "1 x 1 = 1\t1 x 2 = 2\t1 x 3 = 3\t1 x 4 = 4\t1 x 5 = 5\t1 x 6 = 6\t1 x 7 = 7\t1 x 8 = 8\t1 x 9 = 9\t\n",
      "2 x 1 = 2\t2 x 2 = 4\t2 x 3 = 6\t2 x 4 = 8\t2 x 5 = 10\t2 x 6 = 12\t2 x 7 = 14\t2 x 8 = 16\t2 x 9 = 18\t\n",
      "3 x 1 = 3\t3 x 2 = 6\t3 x 3 = 9\t3 x 4 = 12\t3 x 5 = 15\t3 x 6 = 18\t3 x 7 = 21\t3 x 8 = 24\t3 x 9 = 27\t\n",
      "4 x 1 = 4\t4 x 2 = 8\t4 x 3 = 12\t4 x 4 = 16\t4 x 5 = 20\t4 x 6 = 24\t4 x 7 = 28\t4 x 8 = 32\t4 x 9 = 36\t\n",
      "5 x 1 = 5\t5 x 2 = 10\t5 x 3 = 15\t5 x 4 = 20\t5 x 5 = 25\t5 x 6 = 30\t5 x 7 = 35\t5 x 8 = 40\t5 x 9 = 45\t\n",
      "6 x 1 = 6\t6 x 2 = 12\t6 x 3 = 18\t6 x 4 = 24\t6 x 5 = 30\t6 x 6 = 36\t6 x 7 = 42\t6 x 8 = 48\t6 x 9 = 54\t\n",
      "7 x 1 = 7\t7 x 2 = 14\t7 x 3 = 21\t7 x 4 = 28\t7 x 5 = 35\t7 x 6 = 42\t7 x 7 = 49\t7 x 8 = 56\t7 x 9 = 63\t\n",
      "8 x 1 = 8\t8 x 2 = 16\t8 x 3 = 24\t8 x 4 = 32\t8 x 5 = 40\t8 x 6 = 48\t8 x 7 = 56\t8 x 8 = 64\t8 x 9 = 72\t\n",
      "9 x 1 = 9\t9 x 2 = 18\t9 x 3 = 27\t9 x 4 = 36\t9 x 5 = 45\t9 x 6 = 54\t9 x 7 = 63\t9 x 8 = 72\t9 x 9 = 81\t\n"
     ]
    }
   ],
   "source": [
    "for i in range(1, 10):\n",
    "    # Bảng nhân từ 1 đến 9\n",
    "    for j in range(1, 10):\n",
    "        print(f\"{i} x {j} = {i*j}\", end=\"\\t\")\n",
    "    print()  # Xuống dòng sau mỗi bảng nhân\n",
    "                "
   ]
  },
  {
   "cell_type": "markdown",
   "id": "e2b41d4a",
   "metadata": {},
   "source": [
    "## Lab 3 - Bài 5: bài tập làm thêm"
   ]
  },
  {
   "cell_type": "code",
   "execution_count": null,
   "id": "0e0172f7",
   "metadata": {},
   "outputs": [],
   "source": [
    "# code lab 3  bài làm thêm ở đây \n",
    "menu = \"\"\"\n",
    "        1. Phep tinh co ban: Cong, tru, nhan, chia\n",
    "        2. Luy thua: Tinh x^y\n",
    "        3. Can bac hai: Tinh √x\n",
    "        4. Ham luong giac: Sin, cos, tan\n",
    "        5. Logarit: Log co so 10, ln, log co so tuy chon\n",
    "        6. Giai phuong trinh bac nhat\n",
    "        7. Giai phuong trinh bac 2\n",
    "        8. Lich su: Luu va xem lai cac phep tinh da thuc hien\n",
    "        9. Thoi gian: Hien thi thoi gian hien tai\n",
    "        10. Giao dien than thien: Menu de su dung bang tieng Viet\n",
    "        \"\"\"\n",
    "while True:\n",
    "    print(menu)\n",
    "    lựa_chọn = input(\"Mời bạn chọn: \")\n",
    "    match lựa_chọn:\n",
    "        case '1':\n",
    "            print(\"Phép toán cơ bản\")\n",
    "        case '2':\n",
    "            print(\"Lũy thừa\")\n",
    "        case '3':\n",
    "            print(\"Căn bậc hai\")\n",
    "        case '4':\n",
    "            print(\"Hàm lượng giác\")\n",
    "        case '5':\n",
    "            print(\"Logarit\")\n",
    "        case '6':\n",
    "            print(\"Giải phương trình bậc nhất\")\n",
    "        case '7':\n",
    "            print(\"Giải phương trình bậc hai\")\n",
    "        case '8':\n",
    "            print(\"Lịch sử\")\n",
    "        case '9':\n",
    "            print(\"Thời gian\")\n",
    "        case '10':\n",
    "            print(\"Giao diện thân thiện\")\n",
    "        case _:\n",
    "            print(\"Lựa chọn không hợp lệ, vui lòng chọn lại\")\n",
    "            break"
   ]
  }
 ],
 "metadata": {
  "kernelspec": {
   "display_name": "Python 3",
   "language": "python",
   "name": "python3"
  },
  "language_info": {
   "codemirror_mode": {
    "name": "ipython",
    "version": 3
   },
   "file_extension": ".py",
   "mimetype": "text/x-python",
   "name": "python",
   "nbconvert_exporter": "python",
   "pygments_lexer": "ipython3",
   "version": "3.13.7"
  }
 },
 "nbformat": 4,
 "nbformat_minor": 5
}
