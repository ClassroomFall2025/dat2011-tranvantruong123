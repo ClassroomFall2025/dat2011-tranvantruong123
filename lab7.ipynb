{
 "cells": [
  {
   "cell_type": "markdown",
   "id": "fdeff819",
   "metadata": {},
   "source": [
    "# Sinh Viên thực hiện Lab 7 ở Đây"
   ]
  },
  {
   "cell_type": "markdown",
   "id": "acc5d7dc",
   "metadata": {},
   "source": [
    "## Lab 7 - Bài 1"
   ]
  },
  {
   "cell_type": "code",
   "execution_count": 11,
   "id": "001e0507",
   "metadata": {},
   "outputs": [
    {
     "name": "stdout",
     "output_type": "stream",
     "text": [
      "Toàn bộ nội dung file:\n",
      "\n",
      "Tự nguyện\n",
      "Trương Quốc Khánh\n",
      "Nếu là chim, tôi sẽ là loài bồ câu trắng\n",
      "Nếu là hoa, tôi sẽ là một đóa hướng dương\n",
      "Nếu là mây, tôi sẽ là một vầng mây ấm\n",
      "Là người, tôi sẽ chết cho quê hương.\n",
      "\n",
      "Là chim, tôi sẽ cất cao đôi cánh mềm\n",
      "Từ nam ra ngoài bắc báo tin nối liền\n",
      "Là hoa, tôi nở tình yêu ban sớm\n",
      "Cùng muôn trái tim ngất ngây hoà bình.\n",
      "\n",
      "Là mây, theo làn gió tung bay khắp trời\n",
      "Nghìn xưa oai hùng đó tôi xin tiếp lời\n",
      "Là người, xin một lần khi nằm xuống\n",
      "Nhìn anh em đứng lên phất cao ngọn cờ.\n",
      "\n",
      " Tên bài thơ: Tự nguyện\n",
      "  Tác giả: Trương Quốc Khánh\n"
     ]
    }
   ],
   "source": [
    "# with open(\"D:/dat 11/drive-download-20250916T095908Z-1-001/Lab/DAT2011 - Lab 7 - Resource.txt\", \"r\", encoding=\"utf-8\") as f:\n",
    "#     data = f.read()\n",
    "#     print(data)\n",
    "import os\n",
    "\n",
    "# Đường dẫn tới file (thay lại nếu khác)\n",
    "file_path = \"D:/dat 11/drive-download-20250916T095908Z-1-001/Lab/DAT2011 - Lab 7 - Resource.txt\"\n",
    "\n",
    "# Kiểm tra file có tồn tại hay không\n",
    "if os.path.exists(file_path):\n",
    "    # Mở file bằng chế độ đọc\n",
    "    with open(file_path, \"r\", encoding=\"utf-8\") as f:\n",
    "        # Đọc toàn bộ nội dung\n",
    "        content = f.read()\n",
    "        print(\"Toàn bộ nội dung file:\\n\")\n",
    "        print(content)\n",
    "\n",
    "    # Đọc lại để lấy dòng đầu và dòng hai\n",
    "    with open(file_path, \"r\", encoding=\"utf-8\") as f:\n",
    "        lines = f.readlines()\n",
    "\n",
    "        # 9 ký tự đầu tiên (tên bài thơ)\n",
    "        poem_name = lines[0][:9]\n",
    "        print(\"\\n Tên bài thơ:\", poem_name)\n",
    "\n",
    "        # Dòng thứ 2 là tên tác giả\n",
    "        if len(lines) > 1:\n",
    "            author = lines[1].strip()\n",
    "            print(\"  Tác giả:\", author)\n",
    "        else:\n",
    "            print(\"  Không tìm thấy dòng thứ hai trong file.\")\n",
    "\n",
    "else:\n",
    "    print(\" Không tìm thấy file! Hãy kiểm tra lại đường dẫn hoặc tên file.\")\n",
    "\n"
   ]
  },
  {
   "cell_type": "markdown",
   "id": "c0835310",
   "metadata": {},
   "source": [
    "## Lab 7 - Bài 2"
   ]
  },
  {
   "cell_type": "code",
   "execution_count": 12,
   "id": "fa9cb39f",
   "metadata": {},
   "outputs": [
    {
     "name": "stdout",
     "output_type": "stream",
     "text": [
      "Đã ghi nội dung vào file thành công!\n"
     ]
    }
   ],
   "source": [
    "# Đường dẫn tới file mới\n",
    "output_file = \"D:/DAT2011 -Tran Van Truong/dat2011-tranvantruong123-Exercise2.txt\"\n",
    "\n",
    "# Nội dung cần ghi\n",
    "content = \"\"\"Nếu một mai tôi có bay lên trời\n",
    "Thì người ơi tôi đã sống rất thảnh thơi\n",
    "\n",
    "Nếu một mai tôi có đi qua đời\n",
    "Thì người ơi tôi đã sống rất tuyệt vời\n",
    "\"\"\"\n",
    "\n",
    "# Ghi nội dung vào file (chế độ 'w' sẽ ghi đè nếu file đã tồn tại)\n",
    "with open(output_file, \"w\", encoding=\"utf-8\") as f:\n",
    "    f.write(content)\n",
    "\n",
    "print(\"Đã ghi nội dung vào file thành công!\")\n"
   ]
  },
  {
   "cell_type": "markdown",
   "id": "0f2483fe",
   "metadata": {},
   "source": [
    "## Lab 7 - Bài 3"
   ]
  },
  {
   "cell_type": "code",
   "execution_count": null,
   "id": "e8adabb8",
   "metadata": {},
   "outputs": [],
   "source": []
  },
  {
   "cell_type": "code",
   "execution_count": 16,
   "id": "7034990b",
   "metadata": {},
   "outputs": [
    {
     "name": "stdout",
     "output_type": "stream",
     "text": [
      " nhap ten thong tin bai tho 1:\n",
      "da luu thong tin bai tho vao file CSV.\n",
      " nhap ten thong tin bai tho 2:\n",
      "da luu thong tin bai tho vao file CSV.\n",
      " nhap ten thong tin bai tho 3:\n",
      "da luu thong tin bai tho vao file CSV.\n",
      " nhap ten thong tin bai tho 4:\n",
      "da luu thong tin bai tho vao file CSV.\n",
      " nhap ten thong tin bai tho 5:\n",
      "da luu thong tin bai tho vao file CSV.\n"
     ]
    }
   ],
   "source": [
    "import csv\n",
    "csv_file_path = \"D:/DAT2011 -Tran Van Truong/dat2011-tranvantruong123-Exercise2.txt- Resource.csv\"\n",
    "\n",
    "# Ghi nội dung vào file CSV\n",
    "with open(csv_file_path, mode=\"w\", newline=\"\", encoding=\"utf-8\") as f:\n",
    "    writer = csv.writer(f)\n",
    "\n",
    "    writer.writerow([\"tieu de\", \"tac gia\", \"nam xuat ban\"])\n",
    "    for i in range(5):\n",
    "        print(f\" nhap ten thong tin bai tho {i+1}:\")\n",
    "        tieu_de = input(\"nhap tieu de:\")\n",
    "        tac_gia = input(\"nhap ten tac gia:\")\n",
    "        nam_xuat_ban = input(\"nhap nam xuat ban:\")\n",
    "        writer.writerow([tieu_de, tac_gia, nam_xuat_ban])\n",
    "        print(\"da luu thong tin bai tho vao file CSV.\")"
   ]
  },
  {
   "cell_type": "markdown",
   "id": "d36ea3d3",
   "metadata": {},
   "source": [
    "## Lab 7 - Bài 4"
   ]
  },
  {
   "cell_type": "code",
   "execution_count": 5,
   "id": "4c707ec1",
   "metadata": {},
   "outputs": [
    {
     "name": "stdout",
     "output_type": "stream",
     "text": [
      "da luu thong tin bai tho vao file CSV.\n",
      "Đã chuyển nội dung sang file Lab7-Exercise4.xml thành công!\n"
     ]
    }
   ],
   "source": [
    "# code lab4 ở đây\n",
    "import os\n",
    "import csv\n",
    "from turtle import title\n",
    "input = \"D:/DAT2011 -Tran Van Truong/dat2011-tranvantruong123-Exercise2.txt\"\n",
    "output = \"D:/DAT2011 -Tran Van Truong/dat2011-tranvantruong123-Exercise2.txt- Resource.csv\"\n",
    "\n",
    "if not os.path.exists(input):\n",
    "    print(\"file khong ton tai\")\n",
    "else:\n",
    "    with open(input, \"r\", encoding=\"utf-8\") as f:\n",
    "        lines = f.readlines()\n",
    "        if len(lines) < 2:\n",
    "            print(\"file khong du du lieu\")\n",
    "        else:\n",
    "            tieu_de = lines[0][:9]\n",
    "            tac_gia = lines[1].strip()\n",
    "            nam_xuat_ban = \"2023\"  # Giả sử năm xuất bản là 2023\n",
    "\n",
    "            with open(output, mode=\"w\", newline=\"\", encoding=\"utf-8\") as f_out:\n",
    "                writer = csv.writer(f_out)\n",
    "                writer.writerow([\"tieu de\", \"tac gia\", \"nam xuat ban\"])\n",
    "                writer.writerow([tieu_de, tac_gia, nam_xuat_ban])\n",
    "                print(\"da luu thong tin bai tho vao file CSV.\")\n",
    "\n",
    "    section = []\n",
    "    for line in lines[2:]:\n",
    "        if line.strip() == \"\":\n",
    "            # Khi gặp dòng trống => kết thúc 1 khổ thơ\n",
    "            if section:\n",
    "                section.append(\"\\n\".join(section))\n",
    "                section = []\n",
    "        else:\n",
    "            section.append(line.strip())\n",
    "\n",
    "    # Nếu còn khổ thơ cuối chưa thêm\n",
    "    if section:\n",
    "        section.append(\"\\n\".join(section))\n",
    "\n",
    "    # --- Ghi ra file XML ---\n",
    "    output_file = \"D:/DAT2011 -Tran Van Truong/Lab7-Exercise4.xml\"\n",
    "    with open(output_file, \"w\", encoding=\"utf-8\") as f_xml:\n",
    "        f_xml.write(\"<poem>\\n\")\n",
    "        f_xml.write(f\"  <title>{tieu_de}</title>\\n\")\n",
    "        f_xml.write(f\"  <author>{tac_gia}</author>\\n\")\n",
    "        for s in section:\n",
    "            f_xml.write(f\"  <section>{s}</section>\\n\")\n",
    "        f_xml.write(\"</poem>\")\n",
    "\n",
    "    print(\"Đã chuyển nội dung sang file Lab7-Exercise4.xml thành công!\")\n",
    "\n"
   ]
  },
  {
   "cell_type": "markdown",
   "id": "e2b41d4a",
   "metadata": {},
   "source": [
    "## Lab 7 - Bài 5: bài tập làm thêm"
   ]
  },
  {
   "cell_type": "code",
   "execution_count": null,
   "id": "0e0172f7",
   "metadata": {},
   "outputs": [],
   "source": []
  }
 ],
 "metadata": {
  "kernelspec": {
   "display_name": "Python 3",
   "language": "python",
   "name": "python3"
  },
  "language_info": {
   "codemirror_mode": {
    "name": "ipython",
    "version": 3
   },
   "file_extension": ".py",
   "mimetype": "text/x-python",
   "name": "python",
   "nbconvert_exporter": "python",
   "pygments_lexer": "ipython3",
   "version": "3.14.0"
  }
 },
 "nbformat": 4,
 "nbformat_minor": 5
}
