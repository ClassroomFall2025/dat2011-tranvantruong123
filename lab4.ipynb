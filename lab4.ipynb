{
 "cells": [
  {
   "cell_type": "markdown",
   "id": "fdeff819",
   "metadata": {},
   "source": [
    "# Sinh Viên thực hiện Lab 4 ở Đây"
   ]
  },
  {
   "cell_type": "markdown",
   "id": "acc5d7dc",
   "metadata": {},
   "source": [
    "## Lab 4 - Bài 1"
   ]
  },
  {
   "cell_type": "code",
   "execution_count": null,
   "id": "001e0507",
   "metadata": {},
   "outputs": [
    {
     "name": "stdout",
     "output_type": "stream",
     "text": [
      "Chương trình tính tiền nước sinh hoạt\n",
      "Số tiền nước phải trả trong tháng là: 31331000.0 đồng\n"
     ]
    }
   ],
   "source": [
    "# # Code lab 4 bài 1 ở đây\n",
    "# def timh_tien_nuoc(so_nuoc):\n",
    "#     gia_ban_nuoc = (7500, 8000, 12000, 24000)\n",
    "#     if so_nuoc <= 10 and so_nuoc > 0:\n",
    "#         tien_nuoc_thang = so_nuoc * gia_ban_nuoc[0]\n",
    "#     elif so_nuoc <= 20:\n",
    "#         tien_nuoc_thang = 10 * gia_ban_nuoc[0] + (so_nuoc - 10) * gia_ban_nuoc[1]\n",
    "#     elif so_nuoc <= 30:\n",
    "#         tien_nuoc_thang = 10 * gia_ban_nuoc[0] + 10 * gia_ban_nuoc[1] + (so_nuoc - 20) * gia_ban_nuoc[2]\n",
    "#     else:\n",
    "#         tien_nuoc_thang = 10 * gia_ban_nuoc[0] + 10 * gia_ban_nuoc[1] + 10 * gia_ban_nuoc[2] + (so_nuoc - 30) * gia_ban_nuoc[3]\n",
    "#     return tien_nuoc_thang\n",
    "# print(\"Chương trình tính tiền nước sinh hoạt\")\n",
    "# so_nuoc = float(input(\"Nhập số nước tiêu thụ trong tháng (m3): \"))\n",
    "# tien_nuoc = timh_tien_nuoc(so_nuoc)\n",
    "# print(f\"Số tiền nước phải trả trong tháng là: {tien_nuoc} đồng\")\n",
    "\n"
   ]
  },
  {
   "cell_type": "markdown",
   "id": "c0835310",
   "metadata": {},
   "source": [
    "## Lab 4 - Bài 2"
   ]
  },
  {
   "cell_type": "code",
   "execution_count": null,
   "id": "fa9cb39f",
   "metadata": {},
   "outputs": [],
   "source": [
    "# # Code lab 4  bài 2 ở đây\n",
    "# def tinh_nguyen_lieu(s1_bdx, s2_btc, s3_bd):\n",
    "#     banh_dau_xanh = {\"đường\": 0.04, \"đậu\":0.07}\n",
    "#     banh_thap_cam = {\"đường\": 0.06 , \"đậu\":0}\n",
    "#     banh_dẻo ={\"đường\": 0.05, \"đậu\":0.02}\n",
    "#     duong_lam_banh = s1_bdx * banh_dau_xanh[\"đường\"] + s2_btc * banh_thap_cam[\"đường\"] + s3_bd * banh_dẻo[\"đường\"]\n",
    "#     dau_lam_banh = s1_bdx * banh_dau_xanh[\"đậu\"] + s2_btc * banh_thap_cam[\"đậu\"] + s3_bd * banh_dẻo[\"đậu\"]\n",
    "#     return duong_lam_banh, dau_lam_banh\n",
    "\n",
    "\n"
   ]
  },
  {
   "cell_type": "markdown",
   "id": "0f2483fe",
   "metadata": {},
   "source": [
    "## Lab 4 - Bài 3"
   ]
  },
  {
   "cell_type": "code",
   "execution_count": 4,
   "id": "7034990b",
   "metadata": {},
   "outputs": [
    {
     "name": "stdout",
     "output_type": "stream",
     "text": [
      "Vui lòng nhập đúng định dạng dãy số nguyên, cách nhau bởi dấu phẩy.\n",
      "lỗi: bạn phải nhập số nguyên!\n"
     ]
    }
   ],
   "source": [
    "try:\n",
    "    #nhập dãy số nguyên từ bàn phím\n",
    "    Nhap_so_nguyen = input(\"Nhập dãy số nguyên, cách nhau bởi dấu phẩy: \")\n",
    "    #chuyển thành các danh sách số nguyên\n",
    "    Danh_sach_so_nguyen = [int(x) for x in Nhap_so_nguyen.split(\",\")]\n",
    "    # sử dụng hàm filter và lambda để lọc các số chẵn\n",
    "    So_chan = list(filter(lambda x: x % 2 == 0, Danh_sach_so_nguyen))\n",
    "    # sử dụng hàm filter và lambda để lọc các số lẻ\n",
    "    So_le = list(filter(lambda x: x % 2 != 0, Danh_sach_so_nguyen))\n",
    "    print(\"Các số chẵn là:\", So_chan)\n",
    "    print(\"Các số lẻ là:\", So_le)\n",
    "except ValueError:\n",
    "    print(\"Vui lòng nhập đúng định dạng dãy số nguyên, cách nhau bởi dấu phẩy.\")\n",
    "    print(\"lỗi: bạn phải nhập số nguyên!\")\n",
    "# Code lab 4 bài 3 ở đây"
   ]
  },
  {
   "cell_type": "markdown",
   "id": "d36ea3d3",
   "metadata": {},
   "source": [
    "## Lab 4 - Bài 4"
   ]
  },
  {
   "cell_type": "code",
   "execution_count": null,
   "id": "4c707ec1",
   "metadata": {},
   "outputs": [
    {
     "name": "stdout",
     "output_type": "stream",
     "text": [
      "-----------------------\n",
      "1 : Tính tiền nước sinh hoạt\n",
      "2 : Tính nguyên liệu làm bánh\n",
      "3 : Kết Thúc\n",
      "chọn chức năng chương trình\n",
      "-----------------------\n",
      "1 : Tính tiền nước sinh hoạt\n",
      "2 : Tính nguyên liệu làm bánh\n",
      "3 : Kết Thúc\n",
      "chọn chức năng chương trình\n",
      "-----------------------\n",
      "1 : Tính tiền nước sinh hoạt\n",
      "2 : Tính nguyên liệu làm bánh\n",
      "3 : Kết Thúc\n",
      "chọn chức năng chương trình\n",
      "-----------------------\n",
      "1 : Tính tiền nước sinh hoạt\n",
      "2 : Tính nguyên liệu làm bánh\n",
      "3 : Kết Thúc\n",
      "chọn chức năng chương trình\n"
     ]
    }
   ],
   "source": [
    "# code lab 4 bài 4 ở đây\n",
    "import lab4\n",
    "Menu ={\n",
    "        \"1\": \"Tính tiền nước sinh hoạt\",\n",
    "        \"2\": \"Tính nguyên liệu làm bánh\",\n",
    "        \"3\": \"Kết Thúc\"\n",
    "}\n",
    "while True: \n",
    "    print(\"-----------------------\")\n",
    "    for k ,v in Menu.items():\n",
    "        print(f\"{k} : {v}\")\n",
    "    print(\"chọn chức năng chương trình\")\n",
    "    lua_Chon = input(\"Bạn chọn chức năng :\")\n",
    "    if lua_Chon == \"3\":\n",
    "        print(\"kết thúc chương trình\")\n",
    "        break\n",
    "    elif lua_Chon == \"1\":\n",
    "        so_nuoc = float(input(\"nhập số nước: \"))\n",
    "        print(f\"số tiền thanh toán cho tiền nước {so_nuoc} là:\" ,lab4.tinh_tien_nuoc(so_nuoc),\"VND\")\n",
    "    elif lua_Chon == \"2\":\n",
    "        sl_bdx = float(input(\"nhập số lượng bánh đậu xanh: \"))\n",
    "        sl_btc = float(input(\"nhập số lượng bánh thập cẩm: \"))\n",
    "        sl_bd = float(input(\"nhập số lượng bánh dẻo: \"))\n",
    "        print(\"nguyên liệu làm bánh\",lab4.tinh_nguyen_lieu(sl_bdx, sl_btc, sl_bd))\n"
   ]
  },
  {
   "cell_type": "markdown",
   "id": "e2b41d4a",
   "metadata": {},
   "source": [
    "## Lab 4 - Bài 5: bài tập làm thêm"
   ]
  },
  {
   "cell_type": "code",
   "execution_count": null,
   "id": "0e0172f7",
   "metadata": {},
   "outputs": [],
   "source": [
    "# code lab 4  bài làm thêm ở đây "
   ]
  }
 ],
 "metadata": {
  "kernelspec": {
   "display_name": "Python 3",
   "language": "python",
   "name": "python3"
  },
  "language_info": {
   "codemirror_mode": {
    "name": "ipython",
    "version": 3
   },
   "file_extension": ".py",
   "mimetype": "text/x-python",
   "name": "python",
   "nbconvert_exporter": "python",
   "pygments_lexer": "ipython3",
   "version": "3.13.7"
  }
 },
 "nbformat": 4,
 "nbformat_minor": 5
}
