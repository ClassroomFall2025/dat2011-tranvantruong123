{
 "cells": [
  {
   "cell_type": "markdown",
   "id": "fdeff819",
   "metadata": {},
   "source": [
    "# Sinh Viên thực hiện Lab 1 ở Đây"
   ]
  },
  {
   "cell_type": "markdown",
   "id": "acc5d7dc",
   "metadata": {},
   "source": [
    "## Lab 1 - Bài 1"
   ]
  },
  {
   "cell_type": "code",
   "execution_count": 1,
   "id": "001e0507",
   "metadata": {},
   "outputs": [
    {
     "name": "stdout",
     "output_type": "stream",
     "text": [
      "Trần Văn Trương\n",
      "MSSV: ps44496\n",
      "Lớp: DP20301\n",
      "Tuổi 19\n",
      "Địa chỉ: Ấp 7, xuân tới thượng,hóc môn, TP. Hồ Chí Minh\n"
     ]
    }
   ],
   "source": [
    "# Code lab 1 bài 1 ở đây\n",
    "print(\"Trần Văn Trương\")\n",
    "print(\"MSSV: ps44496\")\n",
    "print(\"Lớp: DP20301\")\n",
    "print(\"Tuổi 19\")\n",
    "print(\"Địa chỉ: Ấp 7, xuân tới thượng,hóc môn, TP. Hồ Chí Minh\")"
   ]
  },
  {
   "cell_type": "markdown",
   "id": "c0835310",
   "metadata": {},
   "source": [
    "## Lab 1 - Bài 2"
   ]
  },
  {
   "cell_type": "code",
   "execution_count": null,
   "id": "fa9cb39f",
   "metadata": {},
   "outputs": [],
   "source": [
    "# Code lab 1  bài 2 ở đây\n",
    "dai = float(input(\"nhập chiều dài hình chữ nhật:\"))\n",
    "rong = float(input(\"nhập chiều rộng hình chữ nhật:\"))\n",
    "Chuvi = (dai+rong)*2\n",
    "Dientich = dai*rong\n",
    "print(\"chu vi hình chữ nhật là:\", Chuvi)\n",
    "print(\"diện tích hình chữ nhật là:\", Dientich)"
   ]
  },
  {
   "cell_type": "markdown",
   "id": "0bf2e95a",
   "metadata": {},
   "source": [
    "## Lab 1 - Bài 3\n"
   ]
  },
  {
   "cell_type": "code",
   "execution_count": 1,
   "id": "7034990b",
   "metadata": {},
   "outputs": [
    {
     "name": "stdout",
     "output_type": "stream",
     "text": [
      "phương trình có 2 nghiệm phân biệt\n",
      "phương trình vô nghiệm\n",
      "phương trình có nghiệm kép\n"
     ]
    },
    {
     "ename": "ValueError",
     "evalue": "could not convert string to float: 'awe12'",
     "output_type": "error",
     "traceback": [
      "\u001b[31m---------------------------------------------------------------------------\u001b[39m",
      "\u001b[31mValueError\u001b[39m                                Traceback (most recent call last)",
      "\u001b[36mCell\u001b[39m\u001b[36m \u001b[39m\u001b[32mIn[1]\u001b[39m\u001b[32m, line 17\u001b[39m\n\u001b[32m     15\u001b[39m \u001b[38;5;28;01mimport\u001b[39;00m\u001b[38;5;250m \u001b[39m\u001b[34;01mmath\u001b[39;00m\n\u001b[32m     16\u001b[39m a = \u001b[38;5;28mfloat\u001b[39m(\u001b[38;5;28minput\u001b[39m(\u001b[33m\"\u001b[39m\u001b[33mnhập hệ số a:\u001b[39m\u001b[33m\"\u001b[39m))\n\u001b[32m---> \u001b[39m\u001b[32m17\u001b[39m b = \u001b[38;5;28;43mfloat\u001b[39;49m\u001b[43m(\u001b[49m\u001b[38;5;28;43minput\u001b[39;49m\u001b[43m(\u001b[49m\u001b[33;43m\"\u001b[39;49m\u001b[33;43mnhập hệ số b:\u001b[39;49m\u001b[33;43m\"\u001b[39;49m\u001b[43m)\u001b[49m\u001b[43m)\u001b[49m\n\u001b[32m     18\u001b[39m c = \u001b[38;5;28mfloat\u001b[39m(\u001b[38;5;28minput\u001b[39m(\u001b[33m\"\u001b[39m\u001b[33mnhập hệ số c:\u001b[39m\u001b[33m\"\u001b[39m))\n\u001b[32m     19\u001b[39m d = b**\u001b[32m2\u001b[39m - \u001b[32m4\u001b[39m*a*c\n",
      "\u001b[31mValueError\u001b[39m: could not convert string to float: 'awe12'"
     ]
    }
   ],
   "source": [
    "# Code lab 1  bài 3 ở đây\n",
    "import math\n",
    "a = float(input(\"nhập hệ số a:\"))\n",
    "b = float(input(\"nhập hệ số b:\"))\n",
    "c = float(input(\"nhập hệ số c:\"))\n",
    "d = b**2 - 4*a*c\n",
    "\n",
    "abs = d>=0\n",
    "print(\"phương trình có 2 nghiệm phân biệt\")\n",
    "abs = d<=0\n",
    "print(\"phương trình vô nghiệm\")\n",
    "abs = d==0\n",
    "print(\"phương trình có nghiệm kép\")\n",
    "# Code lab 1  bài 4 ở đây\n",
    "import math\n",
    "a = float(input(\"nhập hệ số a:\"))\n",
    "b = float(input(\"nhập hệ số b:\"))\n",
    "c = float(input(\"nhập hệ số c:\"))\n",
    "d = b**2 - 4*a*c\n",
    "\n",
    "if d > 0:\n",
    "    print(\"phương trình có 2 nghiệm phân biệt\")\n",
    "elif d == 0:\n",
    "    print(\"phương trình có nghiệm kép\")\n",
    "else:\n",
    "    print(\"phương trình vô nghiệm\")\n"
   ]
  },
  {
   "cell_type": "markdown",
   "id": "d36ea3d3",
   "metadata": {},
   "source": [
    "## Lab 1 - Bài 4"
   ]
  },
  {
   "cell_type": "code",
   "execution_count": null,
   "id": "4c707ec1",
   "metadata": {},
   "outputs": [
    {
     "name": "stdout",
     "output_type": "stream",
     "text": [
      "*...\n",
      "Sống không giận, không hờn, không oán trách\n",
      "Sống mỉm cười, với thử thách chông gai\n",
      "Sống vươn lên, theo kịp với ánh ban mai\n",
      "Sống chan hòa, với những người chung sống\n",
      "\n",
      "sống là động, nhưng lòng luôn bất động\n",
      "Sống là thương, nhưng lòng chẳng vấn vương\n",
      "Sống yên vui, danh lợi mãi coi thường\n",
      "tâm bất biến, giữa dòng đời vạn biển\n",
      "*...\n"
     ]
    }
   ],
   "source": [
    "# Code lab 1 bài 4 ở đây\n",
    "song = \"Sống\"\n",
    "print(\"*...\")\n",
    "print(\"Sống không giận, không hờn, không oán trách\")\n",
    "print(\"Sống mỉm cười, với thử thách chông gai\")\n",
    "print(\"Sống vươn lên, theo kịp với ánh ban mai\")\n",
    "print(\"Sống chan hòa, với những người chung sống\")\n",
    "print()\n",
    "print(\"sống là động, nhưng lòng luôn bất động\")\n",
    "print(\"Sống là thương, nhưng lòng chẳng vấn vương\")\n",
    "print(\"Sống yên vui, danh lợi mãi coi thường\")\n",
    "print(\"tâm bất biến, giữa dòng đời vạn biển\")\n",
    "print(\"*...\")"
   ]
  },
  {
   "cell_type": "markdown",
   "id": "e2b41d4a",
   "metadata": {},
   "source": [
    "## Lab 1 - Bài 5: bài tập làm thêm"
   ]
  },
  {
   "cell_type": "code",
   "execution_count": null,
   "id": "0e0172f7",
   "metadata": {},
   "outputs": [],
   "source": [
    "# code lab 1  bài làm thêm ở đây \n"
   ]
  }
 ],
 "metadata": {
  "kernelspec": {
   "display_name": "Python 3",
   "language": "python",
   "name": "python3"
  },
  "language_info": {
   "codemirror_mode": {
    "name": "ipython",
    "version": 3
   },
   "file_extension": ".py",
   "mimetype": "text/x-python",
   "name": "python",
   "nbconvert_exporter": "python",
   "pygments_lexer": "ipython3",
   "version": "3.14.0"
  }
 },
 "nbformat": 4,
 "nbformat_minor": 5
}
