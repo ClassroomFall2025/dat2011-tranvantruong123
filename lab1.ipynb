{
 "cells": [
  {
   "cell_type": "markdown",
   "id": "fdeff819",
   "metadata": {},
   "source": [
    "# Sinh Viên thực hiện Lab 1 ở Đây"
   ]
  },
  {
   "cell_type": "markdown",
   "id": "acc5d7dc",
   "metadata": {},
   "source": [
    "## Lab 1 - Bài 1"
   ]
  },
  {
   "cell_type": "code",
   "execution_count": 3,
   "id": "001e0507",
   "metadata": {},
   "outputs": [
    {
     "name": "stdout",
     "output_type": "stream",
     "text": [
      "Trần Văn Trương\n",
      "MSSV: ps44496\n",
      "Lớp: DP20301\n",
      "Tuổi 19\n",
      "Địa chỉ: Ấp 7, xuân tới thượng,hóc môn, TP. Hồ Chí Minh\n"
     ]
    }
   ],
   "source": [
    "# Code lab 1 bài 1 ở đây\n",
    "print(\"Trần Văn Trương\")\n",
    "print(\"MSSV: ps44496\")\n",
    "print(\"Lớp: DP20301\")\n",
    "print(\"Tuổi 19\")\n",
    "print(\"Địa chỉ: Ấp 7, xuân tới thượng,hóc môn, TP. Hồ Chí Minh\")"
   ]
  },
  {
   "cell_type": "markdown",
   "id": "c0835310",
   "metadata": {},
   "source": [
    "## Lab 1 - Bài 2"
   ]
  },
  {
   "cell_type": "code",
   "execution_count": null,
   "id": "fa9cb39f",
   "metadata": {},
   "outputs": [],
   "source": [
    "# Code lab 1  bài 2 ở đây\n",
    "dai = float(input(\"nhập chiều dài hình chữ nhật:\"))\n",
    "rong = float(input(\"nhập chiều rộng hình chữ nhật:\"))\n",
    "Chuvi = (dai+rong)*2\n",
    "Dientich = dai*rong\n",
    "print(\"chu vi hình chữ nhật là:\", Chuvi)\n",
    "print(\"diện tích hình chữ nhật là:\", Dientich)"
   ]
  },
  {
   "cell_type": "code",
   "execution_count": 15,
   "id": "7034990b",
   "metadata": {},
   "outputs": [
    {
     "name": "stdout",
     "output_type": "stream",
     "text": [
      "phương trình có 2 nghiệm phân biệt\n",
      "phương trình vô nghiệm\n",
      "...\"\n"
     ]
    }
   ],
   "source": [
    "# Code lab 1  bài 3 ở đây\n",
    "import math\n",
    "a = float(input(\"nhập hệ số a:\"))\n",
    "b = float(input(\"nhập hệ số b:\"))\n",
    "c = float(input(\"nhập hệ số c:\"))\n",
    "d = b**2 - 4*a*c\n",
    "\n",
    "abs = d>=0\n",
    "print(\"phương trình có 2 nghiệm phân biệt\")\n",
    "abs = d<=0\n",
    "print(\"phương trình vô nghiệm\")\n",
    "print(\"...\\\"\")\n"
   ]
  },
  {
   "cell_type": "markdown",
   "id": "d36ea3d3",
   "metadata": {},
   "source": [
    "## Lab 1 - Bài 4"
   ]
  },
  {
   "cell_type": "code",
   "execution_count": 1,
   "id": "4c707ec1",
   "metadata": {},
   "outputs": [
    {
     "name": "stdout",
     "output_type": "stream",
     "text": [
      "Từ bạn cần tìm là: \n"
     ]
    }
   ],
   "source": [
    "# Code lab 1 bài 4 ở đây\n",
    "BaiTho= '''Kiếp con người mỏng manh như là gió\n",
    "Sống trên đời có được mấy lần vui\n",
    "Sao phải đau mà không thể mỉm cười\n",
    "Gắng buông nỗi ngậm ngùi nơi quá khứ\n",
    "\n",
    "Nếu có thể sao ta không làm thử\n",
    "Để tâm hồn khắc hai chữ bình an\n",
    "Cho đôi chân bước thanh thản nhẹ nhàng\n",
    "Dù hướng đời có muôn ngàn đá sỏi\n",
    "'''\n",
    "Tu_Tim_kim = input(\"Nhập từ muốn tìm kiếm trong bài thơ:\")\n",
    "index1=BaiTho.find(Tu_Tim_kim)\n",
    "index2=index1 +len(Tu_Tim_kim)\n",
    "Tu_Tim_kim=BaiTho[index1:index2]\n",
    "print(\"Từ bạn cần tìm là:\", Tu_Tim_kim)\n",
    "\n",
    "\n"
   ]
  },
  {
   "cell_type": "markdown",
   "id": "e2b41d4a",
   "metadata": {},
   "source": [
    "## Lab 1 - Bài 5: bài tập làm thêm"
   ]
  },
  {
   "cell_type": "code",
   "execution_count": 7,
   "id": "0e0172f7",
   "metadata": {},
   "outputs": [],
   "source": [
    "# code lab 1  bài làm thêm ở đây \n"
   ]
  }
 ],
 "metadata": {
  "kernelspec": {
   "display_name": "Python 3",
   "language": "python",
   "name": "python3"
  },
  "language_info": {
   "codemirror_mode": {
    "name": "ipython",
    "version": 3
   },
   "file_extension": ".py",
   "mimetype": "text/x-python",
   "name": "python",
   "nbconvert_exporter": "python",
   "pygments_lexer": "ipython3",
   "version": "3.13.7"
  }
 },
 "nbformat": 4,
 "nbformat_minor": 5
}
